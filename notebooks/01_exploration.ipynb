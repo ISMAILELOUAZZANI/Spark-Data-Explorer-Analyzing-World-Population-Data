{
 "cells": [
  {
   "cell_type": "markdown",
   "metadata": {},
   "source": [
    "# Exploratory Data Analysis"
   ]
  },
  {
   "cell_type": "code",
   "metadata": {},
   "source": [
    "import pandas as pd\n",
    "ratings = pd.read_csv('../data/u.data', sep='\\t', names=['user_id', 'movie_id', 'rating', 'timestamp'])\n",
    "movies = pd.read_csv('../data/u.item', sep='|', encoding='latin-1', header=None, usecols=[0,1], names=['movie_id', 'title'])\n",
    "df = pd.merge(ratings, movies, on='movie_id')\n",
    "df.head()"
   ],
   "execution_count": 1,
   "outputs": []
  }
 ],
 "metadata": {
  "kernelspec": {
   "display_name": "Python 3",
   "language": "python",
   "name": "python3"
  },
  "language_info": {
   "name": "python",
   "version": "3.8"
  }
 },
 "nbformat": 4,
 "nbformat_minor": 2
}
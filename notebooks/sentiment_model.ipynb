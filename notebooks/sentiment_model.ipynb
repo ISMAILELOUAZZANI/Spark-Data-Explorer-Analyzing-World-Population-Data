{
 "cells": [
  {
   "cell_type": "markdown",
   "metadata": {},
   "source": [
    "# Sentiment Model Training"
   ]
  },
  {
   "cell_type": "code",
   "metadata": {},
   "source": [
    "import pandas as pd\n",
    "from sklearn.feature_extraction.text import CountVectorizer\n",
    "from sklearn.linear_model import LogisticRegression\n",
    "from sklearn.model_selection import train_test_split\n",
    "from sklearn.metrics import classification_report\n",
    "import joblib\n",
    "\n",
    "# Load data\n",
    "df = pd.read_csv('../data/training.1600000.processed.noemoticon.csv', encoding='latin-1', header=None)\n",
    "df.columns = ['target', 'id', 'date', 'flag', 'user', 'text']\n",
    "\n",
    "# Preprocess\n",
    "df['label'] = df['target'].map({0: 'negative', 2: 'neutral', 4: 'positive'})\n",
    "\n",
    "X = df['text']\n",
    "y = df['label']\n",
    "\n",
    "vectorizer = CountVectorizer(stop_words='english', max_features=1000)\n",
    "X_vec = vectorizer.fit_transform(X)\n",
    "\n",
    "X_train, X_test, y_train, y_test = train_test_split(X_vec, y, test_size=0.2, random_state=42)\n",
    "\n",
    "model = LogisticRegression(max_iter=1000)\n",
    "model.fit(X_train, y_train)\n",
    "\n",
    "y_pred = model.predict(X_test)\n",
    "print(classification_report(y_test, y_pred))\n",
    "\n",
    "# Save model and vectorizer\n",
    "joblib.dump(model, '../src/sentiment_model.joblib')\n",
    "joblib.dump(vectorizer, '../src/vectorizer.joblib')"
   ],
   "execution_count": 1,
   "outputs": []
  }
 ],
 "metadata": {},
 "nbformat": 4,
 "nbformat_minor": 2
}